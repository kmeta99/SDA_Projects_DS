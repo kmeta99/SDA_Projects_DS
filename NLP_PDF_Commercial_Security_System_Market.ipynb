{
  "cells": [
    {
      "cell_type": "markdown",
      "id": "2be3e1da",
      "metadata": {
        "id": "2be3e1da"
      },
      "source": [
        "### Dependencies"
      ]
    },
    {
      "cell_type": "code",
      "source": [
        "!pip install PyPDF2"
      ],
      "metadata": {
        "id": "9zOzwP7X70GU"
      },
      "id": "9zOzwP7X70GU",
      "execution_count": null,
      "outputs": []
    },
    {
      "cell_type": "markdown",
      "source": [],
      "metadata": {
        "id": "Bpeed0Cp7v7Z"
      },
      "id": "Bpeed0Cp7v7Z"
    },
    {
      "cell_type": "code",
      "execution_count": null,
      "id": "9df3fb95",
      "metadata": {
        "id": "9df3fb95"
      },
      "outputs": [],
      "source": [
        "import pandas as pd\n",
        "import numpy as np\n",
        "import math\n",
        "import string\n",
        "import PyPDF2\n",
        "import nltk\n",
        "from nltk import sent_tokenize\n",
        "from nltk import word_tokenize\n",
        "from nltk.stem import WordNetLemmatizer\n",
        "from nltk.corpus import stopwords\n",
        "from nltk import tokenize"
      ]
    },
    {
      "cell_type": "markdown",
      "id": "41ff2997",
      "metadata": {
        "id": "41ff2997"
      },
      "source": [
        "### 1. Load PDF"
      ]
    },
    {
      "cell_type": "code",
      "execution_count": null,
      "id": "bb4ed3cd",
      "metadata": {
        "id": "bb4ed3cd"
      },
      "outputs": [],
      "source": [
        "pdf = open('Commercial_Security_System_Market.pdf','rb')"
      ]
    },
    {
      "cell_type": "code",
      "execution_count": null,
      "id": "1a20af19",
      "metadata": {
        "id": "1a20af19"
      },
      "outputs": [],
      "source": [
        "def text_extraction(pdf):\n",
        "    pdfReader = PyPDF2.PdfFileReader(pdf)\n",
        "    count = pdfReader.numPages\n",
        "    output = ''\n",
        "\n",
        "    for i in range(count):\n",
        "        page = pdfReader.getPage(i)\n",
        "        output += (page.extractText())\n",
        "    return output"
      ]
    },
    {
      "cell_type": "code",
      "execution_count": null,
      "id": "2799f72b",
      "metadata": {
        "id": "2799f72b"
      },
      "outputs": [],
      "source": [
        "# read text and tokenize\n",
        "output = text_extraction(pdf)\n",
        "sentences = tokenize.sent_tokenize(output)"
      ]
    },
    {
      "cell_type": "code",
      "execution_count": null,
      "id": "37e8d727",
      "metadata": {
        "id": "37e8d727"
      },
      "outputs": [],
      "source": [
        "output"
      ]
    },
    {
      "cell_type": "markdown",
      "id": "d88146db",
      "metadata": {
        "id": "d88146db"
      },
      "source": [
        "### 2. Clean text (words & sentences)"
      ]
    },
    {
      "cell_type": "code",
      "execution_count": null,
      "id": "1921788a",
      "metadata": {
        "id": "1921788a"
      },
      "outputs": [],
      "source": [
        "def clean_sentences(sentences):\n",
        "    stopWords = set(stopwords.words(\"english\"))\n",
        "    lemmatizer = WordNetLemmatizer()\n",
        "    clean_document_sent = []\n",
        "\n",
        "    for sent in sentences:\n",
        "        words = word_tokenize(sent)\n",
        "        clean_sentence = []\n",
        "        for word in words:\n",
        "            word = word.lower()\n",
        "            word = lemmatizer.lemmatize(word)\n",
        "            # remove punctuation from each word\n",
        "            table = str.maketrans('','',string.punctuation)\n",
        "            word = word.translate(table)\n",
        "            if word.isalpha() == False:\n",
        "                continue\n",
        "            if word in stopWords:\n",
        "                continue\n",
        "            if (len(word)<4):\n",
        "                continue\n",
        "            clean_sentence.append(word)\n",
        "        clean_document_sent.append(clean_sentence)\n",
        "    return clean_document_sent"
      ]
    },
    {
      "cell_type": "code",
      "execution_count": null,
      "id": "ccae256d",
      "metadata": {
        "id": "ccae256d"
      },
      "outputs": [],
      "source": [
        "doc_sent_clean = clean_sentences(sentences)\n",
        "len(doc_sent_clean)"
      ]
    },
    {
      "cell_type": "code",
      "execution_count": null,
      "id": "50785f1e",
      "metadata": {
        "id": "50785f1e"
      },
      "outputs": [],
      "source": [
        "doc_sent_clean = [i for i in doc_sent_clean if len(i)>3]\n",
        "len(doc_sent_clean)"
      ]
    },
    {
      "cell_type": "code",
      "execution_count": null,
      "id": "dcadb828",
      "metadata": {
        "id": "dcadb828"
      },
      "outputs": [],
      "source": [
        "doc_sent_clean"
      ]
    },
    {
      "cell_type": "code",
      "execution_count": null,
      "id": "93ea4edf",
      "metadata": {
        "id": "93ea4edf"
      },
      "outputs": [],
      "source": []
    },
    {
      "cell_type": "code",
      "execution_count": null,
      "id": "065148f3",
      "metadata": {
        "id": "065148f3"
      },
      "outputs": [],
      "source": [
        "doc_word_clean =  [item for sublist in doc_sent_clean for item in sublist]"
      ]
    },
    {
      "cell_type": "code",
      "execution_count": null,
      "id": "b188033d",
      "metadata": {
        "id": "b188033d"
      },
      "outputs": [],
      "source": [
        "len(doc_word_clean)"
      ]
    },
    {
      "cell_type": "code",
      "execution_count": null,
      "id": "86337cb5",
      "metadata": {
        "id": "86337cb5"
      },
      "outputs": [],
      "source": [
        "len(doc_word_clean)"
      ]
    },
    {
      "cell_type": "code",
      "execution_count": null,
      "id": "93bd4815",
      "metadata": {
        "id": "93bd4815"
      },
      "outputs": [],
      "source": [
        "# add more words\n",
        "exclude_key_words = ['table','figure']"
      ]
    },
    {
      "cell_type": "code",
      "execution_count": null,
      "id": "7ec0d80d",
      "metadata": {
        "id": "7ec0d80d"
      },
      "outputs": [],
      "source": [
        "#doc_word_clean = [x for x in doc_word_clean if x not in exclude_key_words]\n",
        "#doc_sent_clean = [x for x in doc_sent_clean if x not in exclude_key_words]"
      ]
    },
    {
      "cell_type": "code",
      "execution_count": null,
      "id": "d872a9b9",
      "metadata": {
        "id": "d872a9b9"
      },
      "outputs": [],
      "source": [
        "len(doc_word_clean)"
      ]
    },
    {
      "cell_type": "code",
      "execution_count": null,
      "id": "dbbc439d",
      "metadata": {
        "id": "dbbc439d"
      },
      "outputs": [],
      "source": []
    },
    {
      "cell_type": "markdown",
      "id": "e7fafd32",
      "metadata": {
        "id": "e7fafd32"
      },
      "source": [
        "\n",
        "\n",
        "```\n",
        "# This is formatted as code\n",
        "```\n",
        "\n",
        "### 3. Tf-Idf and top keywords"
      ]
    },
    {
      "cell_type": "code",
      "execution_count": null,
      "id": "567969ba",
      "metadata": {
        "id": "567969ba"
      },
      "outputs": [],
      "source": [
        "# tf score function\n",
        "\n",
        "def tf_score(doc_word_clean):\n",
        "    tf_score = {}\n",
        "    for each_word in doc_word_clean:\n",
        "        if each_word in tf_score:\n",
        "            tf_score[each_word] += 1\n",
        "        else:\n",
        "            tf_score[each_word] = 1\n",
        "\n",
        "    # Dividing by total_word_length for each dictionary element\n",
        "    total_word_length = len(doc_word_clean)\n",
        "    tf_score.update((x, y/int(total_word_length)) for x, y in tf_score.items())\n",
        "    return tf_score"
      ]
    },
    {
      "cell_type": "code",
      "execution_count": null,
      "id": "3ea066c0",
      "metadata": {
        "id": "3ea066c0"
      },
      "outputs": [],
      "source": [
        "# save tf scores \n",
        "tf_score = tf_score(doc_word_clean)"
      ]
    },
    {
      "cell_type": "code",
      "execution_count": null,
      "id": "62d5af4f",
      "metadata": {
        "id": "62d5af4f"
      },
      "outputs": [],
      "source": [
        "tf_score"
      ]
    },
    {
      "cell_type": "code",
      "execution_count": null,
      "id": "ca9010ff",
      "metadata": {
        "id": "ca9010ff"
      },
      "outputs": [],
      "source": [
        "def check_sent(word, sentences): \n",
        "    final = [all([w in x for w in word]) for x in sentences] \n",
        "    sent_len = [sentences[i] for i in range(0, len(final)) if final[i]]\n",
        "    return int(len(sent_len))"
      ]
    },
    {
      "cell_type": "code",
      "execution_count": null,
      "id": "8754f51c",
      "metadata": {
        "id": "8754f51c"
      },
      "outputs": [],
      "source": [
        "# transform sentences for idf method\n",
        "transform_sentences = []\n",
        "for i in doc_sent_clean:\n",
        "    transform_sentences.append(' '.join(i))"
      ]
    },
    {
      "cell_type": "code",
      "execution_count": null,
      "id": "6ce3724f",
      "metadata": {
        "id": "6ce3724f"
      },
      "outputs": [],
      "source": [
        "transform_sentences"
      ]
    },
    {
      "cell_type": "code",
      "execution_count": null,
      "id": "8151a3ad",
      "metadata": {
        "id": "8151a3ad"
      },
      "outputs": [],
      "source": [
        "def idf_calc_score(doc_word_clean,transform_sentences):\n",
        "    idf_score = {}\n",
        "    for each_word in doc_word_clean:\n",
        "        each_word = each_word.replace('.','')\n",
        "        if each_word in idf_score:\n",
        "            idf_score[each_word] = check_sent(each_word, transform_sentences)\n",
        "        else:\n",
        "            idf_score[each_word] = 1\n",
        "    \n",
        "    # Performing a log and divide\n",
        "    total_sent_len = len(transform_sentences)\n",
        "    idf_score.update((x, math.log(int(total_sent_len)/y)) for x, y in idf_score.items())\n",
        "    return idf_score"
      ]
    },
    {
      "cell_type": "code",
      "execution_count": null,
      "id": "e595a290",
      "metadata": {
        "id": "e595a290"
      },
      "outputs": [],
      "source": [
        "# save idf scores\n",
        "idf_score = idf_calc_score(doc_word_clean,transform_sentences)"
      ]
    },
    {
      "cell_type": "code",
      "execution_count": null,
      "id": "545b2c59",
      "metadata": {
        "id": "545b2c59"
      },
      "outputs": [],
      "source": [
        "# save tf-idf scores\n",
        "tf_idf_score = {key: tf_score[key] * idf_score.get(key, 0) for key in tf_score.keys()}"
      ]
    },
    {
      "cell_type": "code",
      "execution_count": null,
      "id": "efcd8d66",
      "metadata": {
        "id": "efcd8d66"
      },
      "outputs": [],
      "source": [
        "# select top key words\n",
        "from operator import itemgetter\n",
        "def get_top_n(dict_elem, n):\n",
        "    result = dict(sorted(dict_elem.items(), key = itemgetter(1), reverse = True)[:n]) \n",
        "    return result"
      ]
    },
    {
      "cell_type": "code",
      "execution_count": null,
      "id": "4edf05d3",
      "metadata": {
        "id": "4edf05d3"
      },
      "outputs": [],
      "source": [
        "tf_idf_score"
      ]
    },
    {
      "cell_type": "code",
      "execution_count": null,
      "id": "07335461",
      "metadata": {
        "id": "07335461"
      },
      "outputs": [],
      "source": [
        "key_words_new = get_top_n(tf_idf_score, 10)"
      ]
    },
    {
      "cell_type": "code",
      "execution_count": null,
      "id": "c6ac0522",
      "metadata": {
        "id": "c6ac0522"
      },
      "outputs": [],
      "source": [
        "key_words_new"
      ]
    },
    {
      "cell_type": "markdown",
      "id": "934f2b71",
      "metadata": {
        "id": "934f2b71"
      },
      "source": [
        "### 4. Generate PDF vector based on key words"
      ]
    },
    {
      "cell_type": "code",
      "execution_count": null,
      "id": "83cdbd58",
      "metadata": {
        "id": "83cdbd58"
      },
      "outputs": [],
      "source": [
        "from sentence_transformers import SentenceTransformer\n",
        "model_bert = SentenceTransformer('paraphrase-mpnet-base-v2')"
      ]
    },
    {
      "cell_type": "code",
      "execution_count": null,
      "id": "7870b191",
      "metadata": {
        "id": "7870b191"
      },
      "outputs": [],
      "source": [
        "def vector_pdf_embedding(key_words_new):\n",
        "    # calculate weights for key words\n",
        "    key_words_weights = np.array(list(key_words_new.values()))/np.sum(np.array(list(key_words_new.values())))\n",
        "    # generate embeddings for each key word from top n list\n",
        "    embeddings_key_words = model_bert.encode(list(key_words_new.keys()))\n",
        "    # generate a embedding vector for pdf based on top key words\n",
        "    vector_pdf = np.dot(key_words_weights,embeddings_key_words)\n",
        "    return vector_pdf"
      ]
    },
    {
      "cell_type": "code",
      "execution_count": null,
      "id": "5808d181",
      "metadata": {
        "id": "5808d181"
      },
      "outputs": [],
      "source": [
        "# save pdf embeddings\n",
        "vector_pdf = vector_pdf_embedding(key_words_new)"
      ]
    },
    {
      "cell_type": "code",
      "execution_count": null,
      "id": "53b03ea6",
      "metadata": {
        "id": "53b03ea6"
      },
      "outputs": [],
      "source": [
        "vector_pdf"
      ]
    },
    {
      "cell_type": "code",
      "execution_count": null,
      "id": "c5cf97d2",
      "metadata": {
        "id": "c5cf97d2"
      },
      "outputs": [],
      "source": [
        "len(vector_pdf)"
      ]
    },
    {
      "cell_type": "code",
      "execution_count": null,
      "id": "42511b02",
      "metadata": {
        "id": "42511b02"
      },
      "outputs": [],
      "source": [
        "# read industries embeddings \n",
        "industry = pd.read_csv('industry_improved_bert_embedding.csv')"
      ]
    },
    {
      "cell_type": "code",
      "execution_count": null,
      "id": "f9c9adf9",
      "metadata": {
        "id": "f9c9adf9"
      },
      "outputs": [],
      "source": []
    },
    {
      "cell_type": "code",
      "execution_count": null,
      "id": "ab782c0d",
      "metadata": {
        "id": "ab782c0d"
      },
      "outputs": [],
      "source": [
        "industry"
      ]
    },
    {
      "cell_type": "code",
      "execution_count": null,
      "id": "6f288a6c",
      "metadata": {
        "id": "6f288a6c"
      },
      "outputs": [],
      "source": [
        "from sklearn.metrics.pairwise import cosine_similarity"
      ]
    },
    {
      "cell_type": "code",
      "execution_count": null,
      "id": "016116b7",
      "metadata": {
        "id": "016116b7"
      },
      "outputs": [],
      "source": [
        "similarity_df = pd.DataFrame(((cosine_similarity(industry.iloc[:,1:],industry.iloc[:,1:])+1)/2),index = industry.iloc[:,0],columns =industry.iloc[:,0])"
      ]
    },
    {
      "cell_type": "code",
      "execution_count": null,
      "id": "0bd249ae",
      "metadata": {
        "id": "0bd249ae"
      },
      "outputs": [],
      "source": [
        "similarity_df['industry_name'] = similarity_df.index"
      ]
    },
    {
      "cell_type": "code",
      "execution_count": null,
      "id": "73a275ec",
      "metadata": {
        "id": "73a275ec"
      },
      "outputs": [],
      "source": [
        "# Importing Modules\n",
        "from scipy.cluster.hierarchy import linkage, dendrogram\n",
        "import matplotlib.pyplot as plt\n",
        "plt.figure(figsize=(16,8))\n",
        "import pandas as pd\n",
        "\n",
        "# Reading the DataFrame\n",
        "seeds_df = similarity_df\n",
        "\n",
        "# Remove the grain species from the DataFrame, save for later\n",
        "varieties = list(seeds_df.pop('industry_name'))\n",
        "\n",
        "# Extract the measurements as a NumPy array\n",
        "samples = seeds_df.values\n",
        "\n",
        "\"\"\"\n",
        "Perform hierarchical clustering on samples using the\n",
        "linkage() function with the method='complete' keyword argument.\n",
        "Assign the result to mergings.\n",
        "\"\"\"\n",
        "mergings = linkage(samples, method='complete')\n",
        "\n",
        "\"\"\"\n",
        "Plot a dendrogram using the dendrogram() function on mergings,\n",
        "specifying the keyword arguments labels=varieties, leaf_rotation=90,\n",
        "and leaf_font_size=6.\n",
        "\"\"\"\n",
        "dendrogram(mergings,\n",
        "           labels=varieties,\n",
        "           leaf_rotation=90,\n",
        "           leaf_font_size=6,\n",
        "           )\n",
        "\n",
        "plt.show()"
      ]
    },
    {
      "cell_type": "code",
      "execution_count": null,
      "id": "7c936062",
      "metadata": {
        "id": "7c936062"
      },
      "outputs": [],
      "source": [
        "from scipy.cluster.hierarchy import fcluster\n",
        "fl = fcluster(mergings,50,criterion='maxclust')"
      ]
    },
    {
      "cell_type": "code",
      "execution_count": null,
      "id": "82ff4cd5",
      "metadata": {
        "id": "82ff4cd5"
      },
      "outputs": [],
      "source": [
        "similarity_df['cluster'] = fl"
      ]
    },
    {
      "cell_type": "code",
      "execution_count": null,
      "id": "46638c02",
      "metadata": {
        "id": "46638c02"
      },
      "outputs": [],
      "source": [
        "cols =similarity_df.columns.tolist()\n",
        "cols = cols[-1:] + cols[:-1]\n",
        "similarity_df = similarity_df[cols]"
      ]
    },
    {
      "cell_type": "code",
      "execution_count": null,
      "id": "6787a9b0",
      "metadata": {
        "id": "6787a9b0"
      },
      "outputs": [],
      "source": [
        "similarity_df = similarity_df.sort_values(by = 'cluster',ascending = True)"
      ]
    },
    {
      "cell_type": "code",
      "execution_count": null,
      "id": "685b7dd0",
      "metadata": {
        "id": "685b7dd0"
      },
      "outputs": [],
      "source": [
        "similarity_df.to_csv('clusters_of_similar_industries.csv')"
      ]
    },
    {
      "cell_type": "code",
      "execution_count": null,
      "id": "13c2a911",
      "metadata": {
        "id": "13c2a911"
      },
      "outputs": [],
      "source": [
        "similarity_df"
      ]
    },
    {
      "cell_type": "code",
      "execution_count": null,
      "id": "5aaaefd5",
      "metadata": {
        "id": "5aaaefd5"
      },
      "outputs": [],
      "source": [
        "# generate sorted list of similar industries\n",
        "df = pd.DataFrame(vector_pdf)\n",
        "similarity_df = pd.DataFrame(((cosine_similarity(df.T,industry.iloc[:,1:])+1)/2),index = ['pdf'],columns =industry.iloc[:,0])\n",
        "sorted_similarity = (similarity_df.sort_values(axis=1,by='pdf',ascending=False)).transpose()\n",
        "sorted_similarity.head(30)"
      ]
    },
    {
      "cell_type": "code",
      "execution_count": null,
      "id": "31368e68",
      "metadata": {
        "id": "31368e68"
      },
      "outputs": [],
      "source": [
        "sorted_similarity.to_csv('sorted_similarity_industries_list_Commercial_Security_System_Market.csv')"
      ]
    },
    {
      "cell_type": "markdown",
      "id": "dfc3fcb9",
      "metadata": {
        "id": "dfc3fcb9"
      },
      "source": [
        "### 5. Code for generating embeddings for industries"
      ]
    },
    {
      "cell_type": "code",
      "execution_count": null,
      "id": "63dd5a90",
      "metadata": {
        "id": "63dd5a90"
      },
      "outputs": [],
      "source": [
        "industry = pd.read_csv('idustry_test.csv')"
      ]
    },
    {
      "cell_type": "code",
      "execution_count": null,
      "id": "fc073a84",
      "metadata": {
        "id": "fc073a84"
      },
      "outputs": [],
      "source": [
        "industry"
      ]
    },
    {
      "cell_type": "code",
      "execution_count": null,
      "id": "78272009",
      "metadata": {
        "id": "78272009"
      },
      "outputs": [],
      "source": [
        "bert_embedding = []\n",
        "for i in industry.industry:\n",
        "    bert_embedding.append(model_bert.encode(i.replace('_',' ')))\n",
        "df = pd.DataFrame(bert_embedding, index =industry.industry,columns = range(0,768))"
      ]
    },
    {
      "cell_type": "code",
      "execution_count": null,
      "id": "a412efad",
      "metadata": {
        "id": "a412efad"
      },
      "outputs": [],
      "source": [
        "df.to_csv('industry_improved_bert_embedding.csv')"
      ]
    },
    {
      "cell_type": "code",
      "execution_count": null,
      "id": "c603a11b",
      "metadata": {
        "id": "c603a11b"
      },
      "outputs": [],
      "source": []
    }
  ],
  "metadata": {
    "kernelspec": {
      "display_name": "ml38",
      "language": "python",
      "name": "ml38"
    },
    "language_info": {
      "codemirror_mode": {
        "name": "ipython",
        "version": 3
      },
      "file_extension": ".py",
      "mimetype": "text/x-python",
      "name": "python",
      "nbconvert_exporter": "python",
      "pygments_lexer": "ipython3",
      "version": "3.8.8"
    },
    "colab": {
      "provenance": [],
      "collapsed_sections": []
    }
  },
  "nbformat": 4,
  "nbformat_minor": 5
}